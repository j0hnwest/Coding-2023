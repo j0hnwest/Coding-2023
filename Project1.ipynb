{
 "cells": [
  {
   "cell_type": "code",
   "execution_count": 1,
   "metadata": {},
   "outputs": [],
   "source": [
    "# Problem 1a\n",
    "\n",
    "# Write a function that counts the number of vowels there are in a given list and output that number using\n",
    "# the following format:\n",
    "# There are X vowels in the list.\n",
    "# Where X is the number of vowels.  Use the following function definition:\n",
    "\n",
    "def countVowelsInList(listOfStuff):\n",
    "    \n",
    "    # defining what values are considered vowels\n",
    "    vowels = 'aeiouAEIOU'\n",
    "    \n",
    "    # creating a counter to add to when iterating through list\n",
    "    vowelCount = 0\n",
    "    \n",
    "    # creating a new list that joins items in tuple(list) into a singular string\n",
    "    newList = \",\".join(listOfStuff)\n",
    "    \n",
    "    # iterating through the range which is 0 through the length of newList\n",
    "    for word in range(0, len(newList)):\n",
    "        \n",
    "        # if statement that adds 1 to vowelCount if aeiouAEIOU is found\n",
    "        if newList[word] in vowels:\n",
    "            vowelCount += 1\n",
    "        \n",
    "        # else statement to indicate no addition to vowelCount if vowels aren't found.\n",
    "        else:\n",
    "            vowelCount += 0\n",
    "    \n",
    "    # print statement that takes the updates vowelCount and prints it alongside two strings\n",
    "    print(\"There are \" + str(vowelCount) + \" vowels in the list.\")\n",
    "        "
   ]
  },
  {
   "cell_type": "code",
   "execution_count": 2,
   "metadata": {},
   "outputs": [
    {
     "name": "stdout",
     "output_type": "stream",
     "text": [
      "There are 14 vowels in the list.\n"
     ]
    }
   ],
   "source": [
    "listOfWords = (\"John\", \"Dad\", \"Cat\", \"Apple\", \"Peter\", \"Jerry\", \"Smashburger\", \"Chipotle\")\n",
    "countVowelsInList(listOfWords)"
   ]
  },
  {
   "cell_type": "code",
   "execution_count": 68,
   "metadata": {},
   "outputs": [],
   "source": [
    "# Problem 1b\n",
    "\n",
    "# Write a function that copies all words that are five or less letters from a list of strings into a new list, \n",
    "# then print the new list.  Use the following function definition:\n",
    "# def copySmallWords(listOfStuff):"
   ]
  },
  {
   "cell_type": "code",
   "execution_count": 84,
   "metadata": {},
   "outputs": [],
   "source": [
    "def copySmallWords(listOfStuff):\n",
    "    # creating a copy of listOfStuff called newList\n",
    "    # this is what I will reference in later lines -- could avoid this step?\n",
    "    newList = listOfStuff.copy()\n",
    "    \n",
    "    # new list to add words to -- meant for words with 5 or less letters\n",
    "    shortWords = []\n",
    "    \n",
    "    # an additional list to store the words with more than 5 letters\n",
    "    longWords = []\n",
    "    \n",
    "    # for loop to iterate through the list copy that I made using .copy()\n",
    "    for word in newList:\n",
    "        # giving a condition while iterating that adds words with len() <= 5 to the list shortWords\n",
    "        # if len() <= 5 add to shortWords list\n",
    "        if len(word) <= 5:\n",
    "            shortWords.append(word)\n",
    "        \n",
    "        # if that condition isn't met, the word must be > 5 letters\n",
    "        # add this word to list longWords\n",
    "        elif len(word) > 5:\n",
    "            longWords.append(word)\n",
    "        \n",
    "        # I believe I can do without this and change my elif to else\n",
    "        else:\n",
    "            # the continue stops the current interation of the loop and continues on with the next\n",
    "            continue\n",
    "    \n",
    "    # print the list of shortWords AFTER iterating through listOfStuff\n",
    "    print(shortWords)"
   ]
  },
  {
   "cell_type": "code",
   "execution_count": 87,
   "metadata": {},
   "outputs": [
    {
     "name": "stdout",
     "output_type": "stream",
     "text": [
      "['John', 'Zoe', 'Peter', 'Jay', 'Tai']\n"
     ]
    }
   ],
   "source": [
    "#listOfNames = [\"John\",\"Zoe\",\"Dustin\",\"Peter\",\"Jay\",\"Tai\"]\n",
    "copySmallWords([\"John\",\"Zoe\",\"Dustin\",\"Peter\",\"Jay\",\"Tai\"])"
   ]
  },
  {
   "cell_type": "code",
   "execution_count": null,
   "metadata": {},
   "outputs": [],
   "source": [
    "# Problem 2\n",
    "#\n",
    "# Given a number of seconds between 0 and 86400 seconds, write a function that reports the equivalent number \n",
    "# of hours, minutes, and seconds.  for example, if the number of seconds is 14013, your function would print\n",
    "#\n",
    "# There are 3 hours, 53 minutes, and 33 seconds in 14013 seconds.\n",
    "#\n",
    "# If the given number of seconds is less than 0 or greater than 86400, your function should print\n",
    "#\n",
    "# Number of seconds given must be greater than or equal to 0 and less than or equal to 86400.\n",
    "#\n",
    "# Use the following function header:\n",
    "# def printNumHoursMinutesSeconds(numSeconds):"
   ]
  },
  {
   "cell_type": "code",
   "execution_count": 166,
   "metadata": {},
   "outputs": [],
   "source": [
    "def printNumHoursMinutesSeconds(numSeconds):\n",
    "    # conditional statement that tells the code to return the statement if input is <0 or >86000\n",
    "    if numSeconds < 0 or numSeconds > 86000:\n",
    "        return \"Number of seconds given must be greater than or equal to 0 and less than or equal to 86400.\"\n",
    "    \n",
    "    # calculation for numHours which is total seconds divided by how many seconds are in an hour\n",
    "    numHours = numSeconds // 3600\n",
    "    \n",
    "    # calculation for numMinutes which takes the remainder from finding hours and then divides it by 60 to get minutes left over\n",
    "    numMinutes = (numSeconds % 3600) // 60 \n",
    "    \n",
    "    # numOfSeconds is the remainder after dividing numSeconds by 60\n",
    "    numOfSeconds = numSeconds % 60\n",
    "    \n",
    "    # print the number of hours, minutes, and seconds\n",
    "    print(\"There are \"+str(numHours)+\"  hours, \"+str(numMinutes)+\" minutes, \"+str(numOfSeconds)+\" seconds in \"+str(numSeconds)+\" seconds.\")"
   ]
  },
  {
   "cell_type": "code",
   "execution_count": 167,
   "metadata": {},
   "outputs": [
    {
     "name": "stdout",
     "output_type": "stream",
     "text": [
      "There are 3  hours, 53 minutes, 33 seconds in 14013 seconds.\n"
     ]
    }
   ],
   "source": [
    "printNumHoursMinutesSeconds(14013)"
   ]
  },
  {
   "cell_type": "code",
   "execution_count": null,
   "metadata": {},
   "outputs": [],
   "source": [
    "# Problem 3\n",
    "# Given a csv file where the columns are \n",
    "#\n",
    "# Pedal Name, Pedal Type, Manufacturer\n",
    "#\n",
    "# write a function that creates a dictionary where the key is pedal type and the value is the number\n",
    "# of those pedals in the csv file. This function should print the dictionary after reading the contents\n",
    "# of the entire file.  Use the following function header:\n",
    "# def countPedalTypes(fileName):\n",
    "    \n",
    "    \n",
    "\n",
    "# there is a sample file named pedals.csv on the course canvas page that you can use to test your function.\n"
   ]
  },
  {
   "cell_type": "code",
   "execution_count": 73,
   "metadata": {},
   "outputs": [],
   "source": [
    "import csv\n",
    "def countPedalTypes(fileName):\n",
    "    pedalCount = {}\n",
    "    with open(fileName, \"r\") as Pedals:\n",
    "        # csvReader = csv.reader(Pedals, delimiter = \",\", quotechar = \" \")\n",
    "        csvReader = csv.DictReader(Pedals)\n",
    "        # next(csvReader, None)\n",
    "        for row in csvReader:\n",
    "            pedalType = row[\"Pedal Type\"]\n",
    "            if pedalType in pedalCount:\n",
    "                pedalCount[pedalType] += 1\n",
    "            else:\n",
    "                pedalCount[pedalType] = 1\n",
    "            # pedalCount.append(row[1])\n",
    "    #return pedalCount   \n",
    "    for pedalType, count in pedalCount.items():\n",
    "        print(f\"{pedalType}: {count}\")\n",
    "            # print(\"Pedal Name: \"+str(row[0])+\", Pedal Type: \"+str(row[1])+\", Manufacturer: \"+str(row[2]))"
   ]
  },
  {
   "cell_type": "code",
   "execution_count": 74,
   "metadata": {},
   "outputs": [
    {
     "name": "stdout",
     "output_type": "stream",
     "text": [
      "Fuzzstortion: 1\n",
      "Fuzz: 15\n",
      "Glitch Engine: 1\n",
      "Passive Octave Up: 1\n",
      "Phaser: 3\n",
      "Tremolo: 1\n",
      "Digital Delay: 1\n",
      "Sound Retainer: 1\n",
      "Looper: 1\n",
      "Glitch Delay: 1\n",
      "Modulated Monophonic Harmonizing PLL: 1\n",
      "PLL: 2\n"
     ]
    }
   ],
   "source": [
    "countPedalTypes(\"pedals.csv\")"
   ]
  },
  {
   "cell_type": "code",
   "execution_count": 2,
   "metadata": {},
   "outputs": [],
   "source": [
    "import csv\n",
    "def countPedalTypes(fileName):\n",
    "    # creating an empty dictionary pedalCount\n",
    "    pedalCount = {}\n",
    "    # open file, use \"r\" to read through file, open/read file is now Pedals\n",
    "    with open(fileName, \"r\") as Pedals:\n",
    "        # using DictReader to read the file like a dictionary\n",
    "        csvReader = csv.DictReader(Pedals)\n",
    "        # iterating through the rows in the now open and read document\n",
    "        for row in csvReader:\n",
    "            # creating a variable for the row that contains pedal type \n",
    "            pedalType = row[\"Pedal Type\"]\n",
    "            # setting a parameter with this if statement \n",
    "            if pedalType in pedalCount:\n",
    "                # increasing the counter by one\n",
    "                pedalCount[pedalType] += 1\n",
    "            # setting another parameter with this else statement saying to not add to the counter\n",
    "            else:\n",
    "                pedalCount[pedalType] = 1   \n",
    "    # using a for loop to iterate through all the pedal types and print the count \n",
    "    # the .items() returns the key value pairs within the dictionary \n",
    "    for pedalType, count in pedalCount.items():\n",
    "        print(f\"{pedalType}: {count}\")"
   ]
  },
  {
   "cell_type": "code",
   "execution_count": 76,
   "metadata": {},
   "outputs": [
    {
     "name": "stdout",
     "output_type": "stream",
     "text": [
      "Fuzzstortion: 1\n",
      "Fuzz: 15\n",
      "Glitch Engine: 1\n",
      "Passive Octave Up: 1\n",
      "Phaser: 3\n",
      "Tremolo: 1\n",
      "Digital Delay: 1\n",
      "Sound Retainer: 1\n",
      "Looper: 1\n",
      "Glitch Delay: 1\n",
      "Modulated Monophonic Harmonizing PLL: 1\n",
      "PLL: 2\n"
     ]
    }
   ],
   "source": [
    "countPedalTypes(\"pedals.csv\")"
   ]
  },
  {
   "cell_type": "code",
   "execution_count": null,
   "metadata": {},
   "outputs": [],
   "source": []
  }
 ],
 "metadata": {
  "kernelspec": {
   "display_name": "Python 3 (ipykernel)",
   "language": "python",
   "name": "python3"
  },
  "language_info": {
   "codemirror_mode": {
    "name": "ipython",
    "version": 3
   },
   "file_extension": ".py",
   "mimetype": "text/x-python",
   "name": "python",
   "nbconvert_exporter": "python",
   "pygments_lexer": "ipython3",
   "version": "3.9.13"
  }
 },
 "nbformat": 4,
 "nbformat_minor": 2
}
