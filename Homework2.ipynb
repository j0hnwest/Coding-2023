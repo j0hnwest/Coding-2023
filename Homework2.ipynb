{
 "cells": [
  {
   "cell_type": "markdown",
   "metadata": {},
   "source": [
    "# Homework 2: APIs\n",
    "# Name: John West"
   ]
  },
  {
   "cell_type": "markdown",
   "metadata": {},
   "source": [
    "#  Part I (20 points): Fun With Dictionaries"
   ]
  },
  {
   "cell_type": "code",
   "execution_count": 1,
   "metadata": {
    "ExecuteTime": {
     "end_time": "2023-02-05T23:50:58.929398Z",
     "start_time": "2023-02-05T23:50:58.921433Z"
    }
   },
   "outputs": [],
   "source": [
    "# here is a dictionary\n",
    "mountain_west = {'Colorado': {'Abbreviation': 'CO',\n",
    "                              'Area': 269601, # in square kilometers\n",
    "                              'Capital': 'Denver',\n",
    "                              'Established': '1876-08-01',\n",
    "                              'Largest city': 'Denver',\n",
    "                              'Population': 5540545,\n",
    "                              'Representatives': 7},\n",
    "                 'Idaho': {'Abbreviation': 'ID',\n",
    "                              'Area': 216443,\n",
    "                              'Capital': 'Boise',\n",
    "                              'Established': '1890-07-03',\n",
    "                              'Largest city': 'Boise',\n",
    "                              'Population': 1683140,\n",
    "                              'Representatives': 2},\n",
    "                 'Montana': {'Abbreviation': 'MT',\n",
    "                              'Area': 380831,\n",
    "                              'Capital': 'Helena',\n",
    "                              'Established': '1889-11-08',\n",
    "                              'Largest city': 'Billings',\n",
    "                              'Population': 1042520,\n",
    "                              'Representatives': 1},\n",
    "                 'Utah': {'Abbreviation': 'UT',\n",
    "                              'Area': 219882,\n",
    "                              'Capital': 'Salt Lake City',\n",
    "                              'Established': '1896-01-04',\n",
    "                              'Largest city': 'Salt Lake City',\n",
    "                              'Population': 3051217,\n",
    "                              'Representatives': 4},\n",
    "                 'Wyoming': {'Abbreviation': 'WY',\n",
    "                              'Area': 253335,\n",
    "                              'Capital': 'Cheyenne',\n",
    "                              'Established': '1890-07-10',\n",
    "                              'Largest city': 'Cheyenne',\n",
    "                              'Population': 585501,\n",
    "                              'Representatives': 1}}"
   ]
  },
  {
   "cell_type": "code",
   "execution_count": 14,
   "metadata": {},
   "outputs": [
    {
     "data": {
      "text/plain": [
       "5"
      ]
     },
     "execution_count": 14,
     "metadata": {},
     "output_type": "execute_result"
    }
   ],
   "source": [
    "len(mountain_west)"
   ]
  },
  {
   "cell_type": "markdown",
   "metadata": {},
   "source": [
    "## Task 1: Iterate through the dictionary and print out the state names along with their abbreviation and population.\n",
    "Example: \n",
    "```\n",
    "Colorado (CO): 5540545  \n",
    "Idaho (ID): 1683140  \n",
    "```\n",
    "  \n",
    "et cetera  "
   ]
  },
  {
   "cell_type": "code",
   "execution_count": 51,
   "metadata": {},
   "outputs": [
    {
     "name": "stdout",
     "output_type": "stream",
     "text": [
      "Colorado(CO): 5540545\n",
      "Idaho(ID): 1683140\n",
      "Montana(MT): 1042520\n",
      "Utah(UT): 3051217\n",
      "Wyoming(WY): 585501\n"
     ]
    }
   ],
   "source": [
    "# answer here\n",
    "# iterating through the list using key, value to navigate the nested dictionary\n",
    "for key, value in mountain_west.items():\n",
    "    #print(value[\"Abbreviation\"])\n",
    "    #print(value[\"Population\"])\n",
    "    print(key + \"(\"+value[\"Abbreviation\"] +\"): \" + str(value[\"Population\"]))"
   ]
  },
  {
   "cell_type": "markdown",
   "metadata": {},
   "source": [
    "## Task 2: Iterate through the dictionary and find the state with the greatest population and print that state's name and population."
   ]
  },
  {
   "cell_type": "code",
   "execution_count": 75,
   "metadata": {},
   "outputs": [
    {
     "name": "stdout",
     "output_type": "stream",
     "text": [
      "Wyoming: 585501\n"
     ]
    }
   ],
   "source": [
    "# answer here\n",
    "# attempt 1\n",
    "for key, value in mountain_west.items():\n",
    "    #print(key + \"(\"+value[\"Abbreviation\"] +\"): \" + str(value[\"Population\"]))\n",
    "    max_state = 0\n",
    "    max_pop = 0\n",
    "    if max_pop == 0 or value[\"Population\"] > max_pop:\n",
    "        max_state = key\n",
    "        max_pop = value[\"Population\"]\n",
    "print(max_state+\": \"+str(max_pop))"
   ]
  },
  {
   "cell_type": "code",
   "execution_count": 92,
   "metadata": {},
   "outputs": [
    {
     "name": "stdout",
     "output_type": "stream",
     "text": [
      "['CO', 5540545]\n",
      "['ID', 1683140]\n",
      "['MT', 1042520]\n",
      "['UT', 3051217]\n",
      "['WY', 585501]\n"
     ]
    }
   ],
   "source": [
    "# attempt 2\n",
    "for key, value in mountain_west.items():\n",
    "    state_pop = []\n",
    "    if value not in state_pop:\n",
    "        state_pop.append(value[\"Abbreviation\"])\n",
    "        state_pop.append(value[\"Population\"])\n",
    "    print(state_pop)"
   ]
  },
  {
   "cell_type": "code",
   "execution_count": 98,
   "metadata": {},
   "outputs": [
    {
     "name": "stdout",
     "output_type": "stream",
     "text": [
      "Colorado: 5540545\n"
     ]
    }
   ],
   "source": [
    "# final answer/attempt 3\n",
    "# create a counter with a value lower than anything it could be compared to\n",
    "max_pop = -1\n",
    "# creating an empty string to house the Abbreviation of the state with the highest population\n",
    "max_pop_state = \"\"\n",
    "# using a for loop here to iterate through the key value pairs within the dictionary mountain_west\n",
    "for key, value in mountain_west.items():\n",
    "    # using an if statement to check whether the population of the state is > than max_pop\n",
    "    if (value[\"Population\"] > max_pop):\n",
    "        # if value is greatest, then max_pop = that value\n",
    "        max_pop = value[\"Population\"]\n",
    "        # max_pop_state will update to be the name of the state with the highest population\n",
    "        max_pop_state = key\n",
    "# final print statement formatting so you have the state and its population\n",
    "print(max_pop_state + \": \" + str(max_pop))"
   ]
  },
  {
   "cell_type": "markdown",
   "metadata": {},
   "source": [
    "## Task 3: Iterate through the dictionary and add up the number of representatives in all of the states.  Print the answer using the following format:\n",
    "\n",
    "There are X representatives in the mountain west states."
   ]
  },
  {
   "cell_type": "code",
   "execution_count": 101,
   "metadata": {},
   "outputs": [
    {
     "name": "stdout",
     "output_type": "stream",
     "text": [
      "There are 15 representatives in the mountain west states.\n"
     ]
    }
   ],
   "source": [
    "# answer here\n",
    "rep_counter = 0\n",
    "for key, value in mountain_west.items():\n",
    "    rep_counter += value[\"Representatives\"]\n",
    "print(\"There are \"+str(rep_counter)+\" representatives in the mountain west states.\")"
   ]
  },
  {
   "cell_type": "markdown",
   "metadata": {},
   "source": [
    "## Task 4: Iterate through the dictionary and calculate the population density for each state.  (The population density is the number of people per square kilometer.)  After doing this, you should report which state has the greatest population density and which state has the smallest population density.\n",
    "Example:  \n",
    "Colorado: 20.55 people per square km  \n",
    "Idaho: 7.78 people per square km  \n",
    "Montana: 2.74 people per square km  \n",
    "Utah: 13.88 people per square km  \n",
    "Wyoming: 2.31 people per square km  \n",
    "  \n",
    "Colorado has the largest population density.  \n",
    "Wyoming has the smallest population density.  "
   ]
  },
  {
   "cell_type": "code",
   "execution_count": 115,
   "metadata": {},
   "outputs": [
    {
     "name": "stdout",
     "output_type": "stream",
     "text": [
      "['Colorado', 5540545, 269601, 'Idaho', 1683140, 216443, 'Montana', 1042520, 380831, 'Utah', 3051217, 219882, 'Wyoming', 585501, 253335]\n"
     ]
    }
   ],
   "source": [
    "# answer here\n",
    "states_pop_density = []\n",
    "for key, value in mountain_west.items():\n",
    "    states_pop_density.append(key)\n",
    "    states_pop_density.append(value[\"Population\"])\n",
    "    states_pop_density.append(value[\"Area\"])\n",
    "    #for pop in states_pop_density:\n",
    "        #population_density = value[\"Population\"] / value[\"Area\"]\n",
    "print(states_pop_density)"
   ]
  },
  {
   "cell_type": "code",
   "execution_count": 145,
   "metadata": {},
   "outputs": [
    {
     "name": "stdout",
     "output_type": "stream",
     "text": [
      "Colorado: 20.55 people per square kilometer\n",
      "Idaho: 7.78 people per square kilometer\n",
      "Montana: 2.74 people per square kilometer\n",
      "Utah: 13.88 people per square kilometer\n",
      "Wyoming: 2.31 people per square kilometer\n"
     ]
    }
   ],
   "source": [
    "pop_densities = []\n",
    "for key, value in mountain_west.items():\n",
    "    pop_den = round(value[\"Population\"] / value[\"Area\"], 2)\n",
    "    if pop_den not in pop_densities:\n",
    "        pop_densities.append(pop_den)\n",
    "    print(key+\": \"+str(pop_den)+\" people per square kilometer\")\n",
    "    #for pop in pop_den:\n",
    "        #if (pop > max_den):\n",
    "            #max_den = pop\n",
    "        #if (pop <= min_den):\n",
    "            #min_den = pop\n",
    "            #print(min_den, max_den)"
   ]
  },
  {
   "cell_type": "code",
   "execution_count": 6,
   "metadata": {},
   "outputs": [
    {
     "data": {
      "text/plain": [
       "10.19"
      ]
     },
     "execution_count": 6,
     "metadata": {},
     "output_type": "execute_result"
    }
   ],
   "source": [
    "# Reminder: how do we round?\n",
    "myNumber = 10.191212\n",
    "round(myNumber,2)"
   ]
  },
  {
   "cell_type": "markdown",
   "metadata": {},
   "source": [
    "# Part II: API Exploration (80 points)\n",
    "\n",
    "### I’d like you to get some experience poking around an unfamiliar data source.  \n",
    "### Find a new API (one we haven’t used in class) and dig into it.  \n",
    "### Pull some data from it like we’ve been doing in our examples and present that data.  \n",
    "### I’ll allow you to scope this mini-project yourself, but at a minimum you should make a request to an API and then use data from that first request to make additional requests.  \n",
    "###  As an example of making requests using data from a previous request, we used the TV Maze \n",
    "### API shows search endpoint to get a list of shows that matched a search string.  \n",
    "### We then used the IDs of the shows to get a list of episodes for each show.  \n",
    "### We couldn't have gotten the list of episodes for the show without first getting the IDs in that first search query.\n",
    "\n",
    "### You should provide some explanation with what you’ve done and what the output means.  \n",
    "### (Nothing too fancy or formal, just some explanation as comments or markup in your Jupyter notebook.)  If you do some data exploration and calculate anything, you can provide  some hypotheses and commentary on whether or not your results line up with your expectations.  Have fun!\n",
    "\n",
    " \n",
    "### Note: The problem says *minimum*.  That means that the more you do on this one the better your grade.  If you do the minimum, expect an 80% on this problem.\n",
    "### That is, if you do the minimum perfectly.  If you have questions about the requirements of this assignment, you need to ask them before assignment is due, not after.\n",
    "\n"
   ]
  },
  {
   "cell_type": "code",
   "execution_count": 140,
   "metadata": {},
   "outputs": [],
   "source": [
    "futbolKey = \"9e7950ca32mshece191decb3d382p19761bjsna2e7ea00c1b6\""
   ]
  },
  {
   "cell_type": "code",
   "execution_count": 129,
   "metadata": {},
   "outputs": [],
   "source": [
    "import requests"
   ]
  },
  {
   "cell_type": "code",
   "execution_count": 130,
   "metadata": {},
   "outputs": [],
   "source": [
    "rootURL = \"https://api-football-v1.p.rapidapi.com/v3/leagues\""
   ]
  },
  {
   "cell_type": "code",
   "execution_count": 132,
   "metadata": {},
   "outputs": [
    {
     "name": "stdout",
     "output_type": "stream",
     "text": [
      "api-football-v1.p.rapidapi.com 9e7950ca32mshece191decb3d382p19761bjsna2e7ea00c1b6\n"
     ]
    }
   ],
   "source": [
    "print(rootURL +\" \" + futbolKey)"
   ]
  },
  {
   "cell_type": "code",
   "execution_count": null,
   "metadata": {},
   "outputs": [],
   "source": []
  },
  {
   "cell_type": "code",
   "execution_count": 141,
   "metadata": {},
   "outputs": [
    {
     "name": "stdout",
     "output_type": "stream",
     "text": [
      "{'message': 'Invalid API key. Go to https://docs.rapidapi.com/docs/keys for more info.'}\n"
     ]
    }
   ],
   "source": [
    "import requests\n",
    "\n",
    "url = \"https://api-football-v1.p.rapidapi.com/v3/leagues\"\n",
    "\n",
    "#querystring = {\"country\":\"England\"}\n",
    "\n",
    "#headers = {\n",
    "    #\"X-RapidAPI-Key\": \"9e7950ca32mshece191decb3d382p19761bjsna2e7ea00c1b6\",\n",
    "    #\"X-RapidAPI-Host\": \"api-football-v1.p.rapidapi.com\"\n",
    "#}\n",
    "\n",
    "response = requests.get(url+futbolKey).json()\n",
    "\n",
    "print(response)"
   ]
  },
  {
   "cell_type": "code",
   "execution_count": null,
   "metadata": {},
   "outputs": [],
   "source": [
    "# I cannot figure out how to get a valid API key from this source\n",
    "# this is all I will be submitting but fully intend to do voluntary interview grading to recoup these points\n",
    "# seeking help outside of campus due to logistical convenience, will come to interview with far more than \n",
    "# what is here at the moment"
   ]
  }
 ],
 "metadata": {
  "kernelspec": {
   "display_name": "Python 3 (ipykernel)",
   "language": "python",
   "name": "python3"
  },
  "language_info": {
   "codemirror_mode": {
    "name": "ipython",
    "version": 3
   },
   "file_extension": ".py",
   "mimetype": "text/x-python",
   "name": "python",
   "nbconvert_exporter": "python",
   "pygments_lexer": "ipython3",
   "version": "3.9.13"
  },
  "varInspector": {
   "cols": {
    "lenName": 16,
    "lenType": 16,
    "lenVar": 40
   },
   "kernels_config": {
    "python": {
     "delete_cmd_postfix": "",
     "delete_cmd_prefix": "del ",
     "library": "var_list.py",
     "varRefreshCmd": "print(var_dic_list())"
    },
    "r": {
     "delete_cmd_postfix": ") ",
     "delete_cmd_prefix": "rm(",
     "library": "var_list.r",
     "varRefreshCmd": "cat(var_dic_list()) "
    }
   },
   "types_to_exclude": [
    "module",
    "function",
    "builtin_function_or_method",
    "instance",
    "_Feature"
   ],
   "window_display": false
  }
 },
 "nbformat": 4,
 "nbformat_minor": 2
}
